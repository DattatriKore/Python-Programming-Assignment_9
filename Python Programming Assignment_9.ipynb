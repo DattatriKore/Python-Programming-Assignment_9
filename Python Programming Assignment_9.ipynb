{
 "cells": [
  {
   "cell_type": "code",
   "execution_count": 3,
   "id": "3d1e5e5b",
   "metadata": {},
   "outputs": [
    {
     "name": "stdout",
     "output_type": "stream",
     "text": [
      "Enter Number: 135\n",
      "count: 3\n",
      "135 is a Disarium Number\n"
     ]
    }
   ],
   "source": [
    "# Q.[1] : Write a Python program to check if the given number is a Disarium Number?\n",
    "\n",
    "n = int(input(\"Enter Number: \"))\n",
    "temp = n\n",
    "x= n\n",
    "count = 0\n",
    "\n",
    "while temp > 0 :\n",
    "    temp = temp // 10\n",
    "    count = count + 1\n",
    "print(f\"count: {count}\")\n",
    "\n",
    "sum = 0\n",
    "\n",
    "while x > 0:\n",
    "    rem = x % 10\n",
    "    sum = sum + rem ** count\n",
    "    x = x // 10\n",
    "    count = count - 1\n",
    "if sum == n:\n",
    "    print(f\"{n} is a Disarium Number\")\n",
    "else:\n",
    "    print(f\"{n} is Not a Disarium Number\")"
   ]
  },
  {
   "cell_type": "code",
   "execution_count": 12,
   "id": "ead513db",
   "metadata": {},
   "outputs": [
    {
     "name": "stdout",
     "output_type": "stream",
     "text": [
      "Disarium numbers between 1 and 100 are\n",
      "1\n",
      "2\n",
      "3\n",
      "4\n",
      "5\n",
      "6\n",
      "7\n",
      "8\n",
      "9\n",
      "89\n"
     ]
    }
   ],
   "source": [
    "# Q.[2] : Write a Python program to print all disarium numbers between 1 to 100?\n",
    "  \n",
    "def calculateLength(n):    \n",
    "    length = 0    \n",
    "    while(n != 0):    \n",
    "        length = length + 1    \n",
    "        n = n//10    \n",
    "    return length    \n",
    "       \n",
    "def sumOfDigits(num):    \n",
    "    rem = sum = 0    \n",
    "    len = calculateLength(num)    \n",
    "        \n",
    "    while(num > 0):    \n",
    "        rem = num%10    \n",
    "        sum = sum + (rem**len)    \n",
    "        num = num//10    \n",
    "        len = len - 1    \n",
    "    return sum    \n",
    "      \n",
    "result = 0    \n",
    "     \n",
    "print(\"Disarium numbers between 1 and 100 are\")    \n",
    "for i in range(1, 101):    \n",
    "    result = sumOfDigits(i)    \n",
    "        \n",
    "    if(result == i):    \n",
    "        print(i)    "
   ]
  },
  {
   "cell_type": "code",
   "execution_count": 13,
   "id": "e92bcc8e",
   "metadata": {},
   "outputs": [
    {
     "name": "stdout",
     "output_type": "stream",
     "text": [
      "82 is a happy number\n"
     ]
    }
   ],
   "source": [
    "# Q.[3] : Write a Python program to check if the given number is Happy Number?\n",
    "\n",
    "def isHappyNumber(num):    \n",
    "    rem = sum = 0    \n",
    "        \n",
    "    while(num > 0):    \n",
    "        rem = num%10    \n",
    "        sum = sum + (rem*rem)    \n",
    "        num = num//10   \n",
    "    return sum   \n",
    "        \n",
    "num = 82    \n",
    "result = num    \n",
    "     \n",
    "while(result != 1 and result != 4):    \n",
    "    result = isHappyNumber(result)    \n",
    "     \n",
    "if(result == 1):    \n",
    "    print(str(num) + \" is a happy number\")    \n",
    "elif(result == 4):    \n",
    "    print(str(num) + \" is not a happy number\")   "
   ]
  },
  {
   "cell_type": "code",
   "execution_count": 4,
   "id": "2277acf7",
   "metadata": {},
   "outputs": [
    {
     "name": "stdout",
     "output_type": "stream",
     "text": [
      "List of happy numbers between 1 and 100: \n",
      "1\n",
      " \n",
      "7\n",
      " \n",
      "10\n",
      " \n",
      "13\n",
      " \n",
      "19\n",
      " \n",
      "23\n",
      " \n",
      "28\n",
      " \n",
      "31\n",
      " \n",
      "32\n",
      " \n",
      "44\n",
      " \n",
      "49\n",
      " \n",
      "68\n",
      " \n",
      "70\n",
      " \n",
      "79\n",
      " \n",
      "82\n",
      " \n",
      "86\n",
      " \n",
      "91\n",
      " \n",
      "94\n",
      " \n",
      "97\n",
      " \n",
      "100\n",
      " \n"
     ]
    }
   ],
   "source": [
    "# Q.[4] : Write a Python program to print all happy numbers between 1 and 100?\n",
    "\n",
    "def isHappyNumber(num):    \n",
    "    rem = sum = 0    \n",
    "        \n",
    "    while(num > 0):    \n",
    "        rem = num%10    \n",
    "        sum = sum + (rem*rem)    \n",
    "        num = num//10    \n",
    "    return sum    \n",
    "              \n",
    "print(\"List of happy numbers between 1 and 100: \")    \n",
    "for i in range(1, 101):    \n",
    "    result = i    \n",
    "        \n",
    "    while(result != 1 and result != 4):    \n",
    "        result = isHappyNumber(result)    \n",
    "        \n",
    "    if(result == 1):    \n",
    "        print(i)    \n",
    "        print(\" \")    "
   ]
  },
  {
   "cell_type": "code",
   "execution_count": 5,
   "id": "1f143090",
   "metadata": {},
   "outputs": [
    {
     "name": "stdout",
     "output_type": "stream",
     "text": [
      "156 is a harshad number\n"
     ]
    }
   ],
   "source": [
    "# Q.[5] : Write a Python program to determine whether the given number is a Harshad Number?\n",
    "\n",
    "num = 156    \n",
    "rem = sum = 0    \n",
    "         \n",
    "n = num    \n",
    "       \n",
    "while(num > 0):    \n",
    "    rem = num%10    \n",
    "    sum = sum + rem    \n",
    "    num = num//10    \n",
    "      \n",
    "if(n%sum == 0):    \n",
    "    print(str(n) + \" is a harshad number\")    \n",
    "else:    \n",
    "    print(str(n) + \" is not a harshad number\")    "
   ]
  },
  {
   "cell_type": "code",
   "execution_count": 6,
   "id": "28df5a38",
   "metadata": {},
   "outputs": [
    {
     "name": "stdout",
     "output_type": "stream",
     "text": [
      "Pronic numbers between 1 and 100: \n",
      "2\n",
      " \n",
      "6\n",
      " \n",
      "12\n",
      " \n",
      "20\n",
      " \n",
      "30\n",
      " \n",
      "42\n",
      " \n",
      "56\n",
      " \n",
      "72\n",
      " \n",
      "90\n",
      " \n"
     ]
    }
   ],
   "source": [
    "# Q.[6] : Write a Python program to print all pronic numbers between 1 and 100?\n",
    "\n",
    "def isPronicNumber(num):    \n",
    "    flag = False    \n",
    "        \n",
    "    for j in range(1, num+1):       \n",
    "        if((j*(j+1)) == num):    \n",
    "            flag = True   \n",
    "            break    \n",
    "    return flag   \n",
    "     \n",
    "print(\"Pronic numbers between 1 and 100: \")    \n",
    "for i in range(1, 101):    \n",
    "    if(isPronicNumber(i)):    \n",
    "        print(i)    \n",
    "        print(\" \")    "
   ]
  },
  {
   "cell_type": "code",
   "execution_count": null,
   "id": "c2d10c1d",
   "metadata": {},
   "outputs": [],
   "source": []
  }
 ],
 "metadata": {
  "kernelspec": {
   "display_name": "Python 3 (ipykernel)",
   "language": "python",
   "name": "python3"
  },
  "language_info": {
   "codemirror_mode": {
    "name": "ipython",
    "version": 3
   },
   "file_extension": ".py",
   "mimetype": "text/x-python",
   "name": "python",
   "nbconvert_exporter": "python",
   "pygments_lexer": "ipython3",
   "version": "3.9.12"
  }
 },
 "nbformat": 4,
 "nbformat_minor": 5
}
